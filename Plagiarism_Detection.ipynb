{
  "nbformat": 4,
  "nbformat_minor": 0,
  "metadata": {
    "colab": {
      "provenance": [],
      "toc_visible": true,
      "authorship_tag": "ABX9TyN0Gb8ot+I5T2d/j4KlDxQD",
      "include_colab_link": true
    },
    "kernelspec": {
      "name": "python3",
      "display_name": "Python 3"
    },
    "language_info": {
      "name": "python"
    }
  },
  "cells": [
    {
      "cell_type": "markdown",
      "metadata": {
        "id": "view-in-github",
        "colab_type": "text"
      },
      "source": [
        "<a href=\"https://colab.research.google.com/github/SunayP/Plagiarism-detection/blob/main/Plagiarism_Detection.ipynb\" target=\"_parent\"><img src=\"https://colab.research.google.com/assets/colab-badge.svg\" alt=\"Open In Colab\"/></a>"
      ]
    },
    {
      "cell_type": "code",
      "execution_count": 1,
      "metadata": {
        "id": "AE2V9teTZ1hU"
      },
      "outputs": [],
      "source": [
        "from difflib import SequenceMatcher"
      ]
    },
    {
      "cell_type": "code",
      "source": [
        "with open ('demo1.txt') as one_file, open('demo2.txt') as two_file:\n",
        "  data_file1 = one_file.read()\n",
        "  data_file2 = two_file.read()\n",
        "  matches = SequenceMatcher(None, data_file1, data_file2).ratio()\n",
        "  print(f\" The plagiarized content is {matches*100}%\")"
      ],
      "metadata": {
        "colab": {
          "base_uri": "https://localhost:8080/"
        },
        "id": "2r5kJZGTaDM4",
        "outputId": "756c4a88-6f15-4dcf-a157-847a9e4d6add"
      },
      "execution_count": 6,
      "outputs": [
        {
          "output_type": "stream",
          "name": "stdout",
          "text": [
            " The plagiarized content is 40.44943820224719%\n"
          ]
        }
      ]
    }
  ]
}